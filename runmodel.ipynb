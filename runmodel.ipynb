{
 "cells": [
  {
   "cell_type": "code",
   "execution_count": 7,
   "id": "initial_id",
   "metadata": {
    "collapsed": true,
    "ExecuteTime": {
     "end_time": "2024-05-02T00:59:04.893929Z",
     "start_time": "2024-05-02T00:59:04.880111Z"
    }
   },
   "outputs": [],
   "source": [
    "import pandas as pd\n",
    "data = pd.read_csv('data/AlaskaMulti.csv')\n"
   ]
  },
  {
   "cell_type": "code",
   "outputs": [],
   "source": [
    "feature_columns = ['ecoregion', 'latitude', 'longitude', 'water', 'wetland', 'shrub', 'dshrub', 'dec', 'mixed',\n",
    "                   'spruce', 'baresnow', 'elev_m', 'jdate', 'radius', 'sound']\n",
    "label_columns = data.columns[data.columns.str.match('^[A-Z]+')].tolist()\n",
    "X = data[feature_columns].apply(pd.to_numeric, errors='coerce')\n",
    "Y = data[label_columns]\n",
    "X.fillna(X.mean(), inplace=True)\n"
   ],
   "metadata": {
    "collapsed": false,
    "ExecuteTime": {
     "end_time": "2024-05-02T00:59:06.734231Z",
     "start_time": "2024-05-02T00:59:06.728802Z"
    }
   },
   "id": "68b5affaf57c34dd",
   "execution_count": 8
  },
  {
   "cell_type": "code",
   "outputs": [],
   "source": [
    "X_train, X_test = X[data['year'] != 2008], X[data['year'] == 2008]\n",
    "Y_train, Y_test = Y[data['year'] != 2008], Y[data['year'] == 2008]\n"
   ],
   "metadata": {
    "collapsed": false,
    "ExecuteTime": {
     "end_time": "2024-05-02T00:59:07.072567Z",
     "start_time": "2024-05-02T00:59:07.062748Z"
    }
   },
   "id": "b8b0ef9edf07fb89",
   "execution_count": 9
  },
  {
   "cell_type": "code",
   "outputs": [
    {
     "data": {
      "text/plain": "MultiOutputClassifier(estimator=RandomForestClassifier(random_state=42),\n                      n_jobs=-1)",
      "text/html": "<style>#sk-container-id-2 {\n  /* Definition of color scheme common for light and dark mode */\n  --sklearn-color-text: black;\n  --sklearn-color-line: gray;\n  /* Definition of color scheme for unfitted estimators */\n  --sklearn-color-unfitted-level-0: #fff5e6;\n  --sklearn-color-unfitted-level-1: #f6e4d2;\n  --sklearn-color-unfitted-level-2: #ffe0b3;\n  --sklearn-color-unfitted-level-3: chocolate;\n  /* Definition of color scheme for fitted estimators */\n  --sklearn-color-fitted-level-0: #f0f8ff;\n  --sklearn-color-fitted-level-1: #d4ebff;\n  --sklearn-color-fitted-level-2: #b3dbfd;\n  --sklearn-color-fitted-level-3: cornflowerblue;\n\n  /* Specific color for light theme */\n  --sklearn-color-text-on-default-background: var(--sg-text-color, var(--theme-code-foreground, var(--jp-content-font-color1, black)));\n  --sklearn-color-background: var(--sg-background-color, var(--theme-background, var(--jp-layout-color0, white)));\n  --sklearn-color-border-box: var(--sg-text-color, var(--theme-code-foreground, var(--jp-content-font-color1, black)));\n  --sklearn-color-icon: #696969;\n\n  @media (prefers-color-scheme: dark) {\n    /* Redefinition of color scheme for dark theme */\n    --sklearn-color-text-on-default-background: var(--sg-text-color, var(--theme-code-foreground, var(--jp-content-font-color1, white)));\n    --sklearn-color-background: var(--sg-background-color, var(--theme-background, var(--jp-layout-color0, #111)));\n    --sklearn-color-border-box: var(--sg-text-color, var(--theme-code-foreground, var(--jp-content-font-color1, white)));\n    --sklearn-color-icon: #878787;\n  }\n}\n\n#sk-container-id-2 {\n  color: var(--sklearn-color-text);\n}\n\n#sk-container-id-2 pre {\n  padding: 0;\n}\n\n#sk-container-id-2 input.sk-hidden--visually {\n  border: 0;\n  clip: rect(1px 1px 1px 1px);\n  clip: rect(1px, 1px, 1px, 1px);\n  height: 1px;\n  margin: -1px;\n  overflow: hidden;\n  padding: 0;\n  position: absolute;\n  width: 1px;\n}\n\n#sk-container-id-2 div.sk-dashed-wrapped {\n  border: 1px dashed var(--sklearn-color-line);\n  margin: 0 0.4em 0.5em 0.4em;\n  box-sizing: border-box;\n  padding-bottom: 0.4em;\n  background-color: var(--sklearn-color-background);\n}\n\n#sk-container-id-2 div.sk-container {\n  /* jupyter's `normalize.less` sets `[hidden] { display: none; }`\n     but bootstrap.min.css set `[hidden] { display: none !important; }`\n     so we also need the `!important` here to be able to override the\n     default hidden behavior on the sphinx rendered scikit-learn.org.\n     See: https://github.com/scikit-learn/scikit-learn/issues/21755 */\n  display: inline-block !important;\n  position: relative;\n}\n\n#sk-container-id-2 div.sk-text-repr-fallback {\n  display: none;\n}\n\ndiv.sk-parallel-item,\ndiv.sk-serial,\ndiv.sk-item {\n  /* draw centered vertical line to link estimators */\n  background-image: linear-gradient(var(--sklearn-color-text-on-default-background), var(--sklearn-color-text-on-default-background));\n  background-size: 2px 100%;\n  background-repeat: no-repeat;\n  background-position: center center;\n}\n\n/* Parallel-specific style estimator block */\n\n#sk-container-id-2 div.sk-parallel-item::after {\n  content: \"\";\n  width: 100%;\n  border-bottom: 2px solid var(--sklearn-color-text-on-default-background);\n  flex-grow: 1;\n}\n\n#sk-container-id-2 div.sk-parallel {\n  display: flex;\n  align-items: stretch;\n  justify-content: center;\n  background-color: var(--sklearn-color-background);\n  position: relative;\n}\n\n#sk-container-id-2 div.sk-parallel-item {\n  display: flex;\n  flex-direction: column;\n}\n\n#sk-container-id-2 div.sk-parallel-item:first-child::after {\n  align-self: flex-end;\n  width: 50%;\n}\n\n#sk-container-id-2 div.sk-parallel-item:last-child::after {\n  align-self: flex-start;\n  width: 50%;\n}\n\n#sk-container-id-2 div.sk-parallel-item:only-child::after {\n  width: 0;\n}\n\n/* Serial-specific style estimator block */\n\n#sk-container-id-2 div.sk-serial {\n  display: flex;\n  flex-direction: column;\n  align-items: center;\n  background-color: var(--sklearn-color-background);\n  padding-right: 1em;\n  padding-left: 1em;\n}\n\n\n/* Toggleable style: style used for estimator/Pipeline/ColumnTransformer box that is\nclickable and can be expanded/collapsed.\n- Pipeline and ColumnTransformer use this feature and define the default style\n- Estimators will overwrite some part of the style using the `sk-estimator` class\n*/\n\n/* Pipeline and ColumnTransformer style (default) */\n\n#sk-container-id-2 div.sk-toggleable {\n  /* Default theme specific background. It is overwritten whether we have a\n  specific estimator or a Pipeline/ColumnTransformer */\n  background-color: var(--sklearn-color-background);\n}\n\n/* Toggleable label */\n#sk-container-id-2 label.sk-toggleable__label {\n  cursor: pointer;\n  display: block;\n  width: 100%;\n  margin-bottom: 0;\n  padding: 0.5em;\n  box-sizing: border-box;\n  text-align: center;\n}\n\n#sk-container-id-2 label.sk-toggleable__label-arrow:before {\n  /* Arrow on the left of the label */\n  content: \"▸\";\n  float: left;\n  margin-right: 0.25em;\n  color: var(--sklearn-color-icon);\n}\n\n#sk-container-id-2 label.sk-toggleable__label-arrow:hover:before {\n  color: var(--sklearn-color-text);\n}\n\n/* Toggleable content - dropdown */\n\n#sk-container-id-2 div.sk-toggleable__content {\n  max-height: 0;\n  max-width: 0;\n  overflow: hidden;\n  text-align: left;\n  /* unfitted */\n  background-color: var(--sklearn-color-unfitted-level-0);\n}\n\n#sk-container-id-2 div.sk-toggleable__content.fitted {\n  /* fitted */\n  background-color: var(--sklearn-color-fitted-level-0);\n}\n\n#sk-container-id-2 div.sk-toggleable__content pre {\n  margin: 0.2em;\n  border-radius: 0.25em;\n  color: var(--sklearn-color-text);\n  /* unfitted */\n  background-color: var(--sklearn-color-unfitted-level-0);\n}\n\n#sk-container-id-2 div.sk-toggleable__content.fitted pre {\n  /* unfitted */\n  background-color: var(--sklearn-color-fitted-level-0);\n}\n\n#sk-container-id-2 input.sk-toggleable__control:checked~div.sk-toggleable__content {\n  /* Expand drop-down */\n  max-height: 200px;\n  max-width: 100%;\n  overflow: auto;\n}\n\n#sk-container-id-2 input.sk-toggleable__control:checked~label.sk-toggleable__label-arrow:before {\n  content: \"▾\";\n}\n\n/* Pipeline/ColumnTransformer-specific style */\n\n#sk-container-id-2 div.sk-label input.sk-toggleable__control:checked~label.sk-toggleable__label {\n  color: var(--sklearn-color-text);\n  background-color: var(--sklearn-color-unfitted-level-2);\n}\n\n#sk-container-id-2 div.sk-label.fitted input.sk-toggleable__control:checked~label.sk-toggleable__label {\n  background-color: var(--sklearn-color-fitted-level-2);\n}\n\n/* Estimator-specific style */\n\n/* Colorize estimator box */\n#sk-container-id-2 div.sk-estimator input.sk-toggleable__control:checked~label.sk-toggleable__label {\n  /* unfitted */\n  background-color: var(--sklearn-color-unfitted-level-2);\n}\n\n#sk-container-id-2 div.sk-estimator.fitted input.sk-toggleable__control:checked~label.sk-toggleable__label {\n  /* fitted */\n  background-color: var(--sklearn-color-fitted-level-2);\n}\n\n#sk-container-id-2 div.sk-label label.sk-toggleable__label,\n#sk-container-id-2 div.sk-label label {\n  /* The background is the default theme color */\n  color: var(--sklearn-color-text-on-default-background);\n}\n\n/* On hover, darken the color of the background */\n#sk-container-id-2 div.sk-label:hover label.sk-toggleable__label {\n  color: var(--sklearn-color-text);\n  background-color: var(--sklearn-color-unfitted-level-2);\n}\n\n/* Label box, darken color on hover, fitted */\n#sk-container-id-2 div.sk-label.fitted:hover label.sk-toggleable__label.fitted {\n  color: var(--sklearn-color-text);\n  background-color: var(--sklearn-color-fitted-level-2);\n}\n\n/* Estimator label */\n\n#sk-container-id-2 div.sk-label label {\n  font-family: monospace;\n  font-weight: bold;\n  display: inline-block;\n  line-height: 1.2em;\n}\n\n#sk-container-id-2 div.sk-label-container {\n  text-align: center;\n}\n\n/* Estimator-specific */\n#sk-container-id-2 div.sk-estimator {\n  font-family: monospace;\n  border: 1px dotted var(--sklearn-color-border-box);\n  border-radius: 0.25em;\n  box-sizing: border-box;\n  margin-bottom: 0.5em;\n  /* unfitted */\n  background-color: var(--sklearn-color-unfitted-level-0);\n}\n\n#sk-container-id-2 div.sk-estimator.fitted {\n  /* fitted */\n  background-color: var(--sklearn-color-fitted-level-0);\n}\n\n/* on hover */\n#sk-container-id-2 div.sk-estimator:hover {\n  /* unfitted */\n  background-color: var(--sklearn-color-unfitted-level-2);\n}\n\n#sk-container-id-2 div.sk-estimator.fitted:hover {\n  /* fitted */\n  background-color: var(--sklearn-color-fitted-level-2);\n}\n\n/* Specification for estimator info (e.g. \"i\" and \"?\") */\n\n/* Common style for \"i\" and \"?\" */\n\n.sk-estimator-doc-link,\na:link.sk-estimator-doc-link,\na:visited.sk-estimator-doc-link {\n  float: right;\n  font-size: smaller;\n  line-height: 1em;\n  font-family: monospace;\n  background-color: var(--sklearn-color-background);\n  border-radius: 1em;\n  height: 1em;\n  width: 1em;\n  text-decoration: none !important;\n  margin-left: 1ex;\n  /* unfitted */\n  border: var(--sklearn-color-unfitted-level-1) 1pt solid;\n  color: var(--sklearn-color-unfitted-level-1);\n}\n\n.sk-estimator-doc-link.fitted,\na:link.sk-estimator-doc-link.fitted,\na:visited.sk-estimator-doc-link.fitted {\n  /* fitted */\n  border: var(--sklearn-color-fitted-level-1) 1pt solid;\n  color: var(--sklearn-color-fitted-level-1);\n}\n\n/* On hover */\ndiv.sk-estimator:hover .sk-estimator-doc-link:hover,\n.sk-estimator-doc-link:hover,\ndiv.sk-label-container:hover .sk-estimator-doc-link:hover,\n.sk-estimator-doc-link:hover {\n  /* unfitted */\n  background-color: var(--sklearn-color-unfitted-level-3);\n  color: var(--sklearn-color-background);\n  text-decoration: none;\n}\n\ndiv.sk-estimator.fitted:hover .sk-estimator-doc-link.fitted:hover,\n.sk-estimator-doc-link.fitted:hover,\ndiv.sk-label-container:hover .sk-estimator-doc-link.fitted:hover,\n.sk-estimator-doc-link.fitted:hover {\n  /* fitted */\n  background-color: var(--sklearn-color-fitted-level-3);\n  color: var(--sklearn-color-background);\n  text-decoration: none;\n}\n\n/* Span, style for the box shown on hovering the info icon */\n.sk-estimator-doc-link span {\n  display: none;\n  z-index: 9999;\n  position: relative;\n  font-weight: normal;\n  right: .2ex;\n  padding: .5ex;\n  margin: .5ex;\n  width: min-content;\n  min-width: 20ex;\n  max-width: 50ex;\n  color: var(--sklearn-color-text);\n  box-shadow: 2pt 2pt 4pt #999;\n  /* unfitted */\n  background: var(--sklearn-color-unfitted-level-0);\n  border: .5pt solid var(--sklearn-color-unfitted-level-3);\n}\n\n.sk-estimator-doc-link.fitted span {\n  /* fitted */\n  background: var(--sklearn-color-fitted-level-0);\n  border: var(--sklearn-color-fitted-level-3);\n}\n\n.sk-estimator-doc-link:hover span {\n  display: block;\n}\n\n/* \"?\"-specific style due to the `<a>` HTML tag */\n\n#sk-container-id-2 a.estimator_doc_link {\n  float: right;\n  font-size: 1rem;\n  line-height: 1em;\n  font-family: monospace;\n  background-color: var(--sklearn-color-background);\n  border-radius: 1rem;\n  height: 1rem;\n  width: 1rem;\n  text-decoration: none;\n  /* unfitted */\n  color: var(--sklearn-color-unfitted-level-1);\n  border: var(--sklearn-color-unfitted-level-1) 1pt solid;\n}\n\n#sk-container-id-2 a.estimator_doc_link.fitted {\n  /* fitted */\n  border: var(--sklearn-color-fitted-level-1) 1pt solid;\n  color: var(--sklearn-color-fitted-level-1);\n}\n\n/* On hover */\n#sk-container-id-2 a.estimator_doc_link:hover {\n  /* unfitted */\n  background-color: var(--sklearn-color-unfitted-level-3);\n  color: var(--sklearn-color-background);\n  text-decoration: none;\n}\n\n#sk-container-id-2 a.estimator_doc_link.fitted:hover {\n  /* fitted */\n  background-color: var(--sklearn-color-fitted-level-3);\n}\n</style><div id=\"sk-container-id-2\" class=\"sk-top-container\"><div class=\"sk-text-repr-fallback\"><pre>MultiOutputClassifier(estimator=RandomForestClassifier(random_state=42),\n                      n_jobs=-1)</pre><b>In a Jupyter environment, please rerun this cell to show the HTML representation or trust the notebook. <br />On GitHub, the HTML representation is unable to render, please try loading this page with nbviewer.org.</b></div><div class=\"sk-container\" hidden><div class=\"sk-item sk-dashed-wrapped\"><div class=\"sk-label-container\"><div class=\"sk-label fitted sk-toggleable\"><input class=\"sk-toggleable__control sk-hidden--visually\" id=\"sk-estimator-id-4\" type=\"checkbox\" ><label for=\"sk-estimator-id-4\" class=\"sk-toggleable__label fitted sk-toggleable__label-arrow fitted\">&nbsp;&nbsp;MultiOutputClassifier<a class=\"sk-estimator-doc-link fitted\" rel=\"noreferrer\" target=\"_blank\" href=\"https://scikit-learn.org/1.4/modules/generated/sklearn.multioutput.MultiOutputClassifier.html\">?<span>Documentation for MultiOutputClassifier</span></a><span class=\"sk-estimator-doc-link fitted\">i<span>Fitted</span></span></label><div class=\"sk-toggleable__content fitted\"><pre>MultiOutputClassifier(estimator=RandomForestClassifier(random_state=42),\n                      n_jobs=-1)</pre></div> </div></div><div class=\"sk-parallel\"><div class=\"sk-parallel-item\"><div class=\"sk-item\"><div class=\"sk-label-container\"><div class=\"sk-label fitted sk-toggleable\"><input class=\"sk-toggleable__control sk-hidden--visually\" id=\"sk-estimator-id-5\" type=\"checkbox\" ><label for=\"sk-estimator-id-5\" class=\"sk-toggleable__label fitted sk-toggleable__label-arrow fitted\">estimator: RandomForestClassifier</label><div class=\"sk-toggleable__content fitted\"><pre>RandomForestClassifier(random_state=42)</pre></div> </div></div><div class=\"sk-serial\"><div class=\"sk-item\"><div class=\"sk-estimator fitted sk-toggleable\"><input class=\"sk-toggleable__control sk-hidden--visually\" id=\"sk-estimator-id-6\" type=\"checkbox\" ><label for=\"sk-estimator-id-6\" class=\"sk-toggleable__label fitted sk-toggleable__label-arrow fitted\">&nbsp;RandomForestClassifier<a class=\"sk-estimator-doc-link fitted\" rel=\"noreferrer\" target=\"_blank\" href=\"https://scikit-learn.org/1.4/modules/generated/sklearn.ensemble.RandomForestClassifier.html\">?<span>Documentation for RandomForestClassifier</span></a></label><div class=\"sk-toggleable__content fitted\"><pre>RandomForestClassifier(random_state=42)</pre></div> </div></div></div></div></div></div></div></div></div>"
     },
     "execution_count": 10,
     "metadata": {},
     "output_type": "execute_result"
    }
   ],
   "source": [
    "from sklearn.ensemble import RandomForestClassifier\n",
    "from sklearn.multioutput import MultiOutputClassifier\n",
    "from sklearn.metrics import hamming_loss, accuracy_score, classification_report\n",
    "\n",
    "forest = RandomForestClassifier(random_state=42, n_estimators=100)\n",
    "multi_target_forest = MultiOutputClassifier(forest, n_jobs=-1)\n",
    "multi_target_forest.fit(X_train, Y_train)\n"
   ],
   "metadata": {
    "collapsed": false,
    "ExecuteTime": {
     "end_time": "2024-05-02T00:59:14.960749Z",
     "start_time": "2024-05-02T00:59:11.769153Z"
    }
   },
   "id": "71dc88eb35b10a8c",
   "execution_count": 10
  },
  {
   "cell_type": "code",
   "outputs": [
    {
     "ename": "ValueError",
     "evalue": "multiclass-multioutput is not supported",
     "output_type": "error",
     "traceback": [
      "\u001B[0;31m---------------------------------------------------------------------------\u001B[0m",
      "\u001B[0;31mValueError\u001B[0m                                Traceback (most recent call last)",
      "Cell \u001B[0;32mIn[11], line 4\u001B[0m\n\u001B[1;32m      1\u001B[0m Y_pred \u001B[38;5;241m=\u001B[39m multi_target_forest\u001B[38;5;241m.\u001B[39mpredict(X_test)\n\u001B[1;32m      3\u001B[0m \u001B[38;5;66;03m# Metrics\u001B[39;00m\n\u001B[0;32m----> 4\u001B[0m hammingloss \u001B[38;5;241m=\u001B[39m \u001B[43mhamming_loss\u001B[49m\u001B[43m(\u001B[49m\u001B[43mY_test\u001B[49m\u001B[43m,\u001B[49m\u001B[43m \u001B[49m\u001B[43mY_pred\u001B[49m\u001B[43m)\u001B[49m\n\u001B[1;32m      5\u001B[0m \u001B[38;5;66;03m# Exact Match Ratio (Subset Accuracy)\u001B[39;00m\n\u001B[1;32m      6\u001B[0m exact_match \u001B[38;5;241m=\u001B[39m accuracy_score(Y_test, Y_pred)\n",
      "File \u001B[0;32m~/PycharmProjects/508-final/.venv/lib/python3.11/site-packages/sklearn/utils/_param_validation.py:213\u001B[0m, in \u001B[0;36mvalidate_params.<locals>.decorator.<locals>.wrapper\u001B[0;34m(*args, **kwargs)\u001B[0m\n\u001B[1;32m    207\u001B[0m \u001B[38;5;28;01mtry\u001B[39;00m:\n\u001B[1;32m    208\u001B[0m     \u001B[38;5;28;01mwith\u001B[39;00m config_context(\n\u001B[1;32m    209\u001B[0m         skip_parameter_validation\u001B[38;5;241m=\u001B[39m(\n\u001B[1;32m    210\u001B[0m             prefer_skip_nested_validation \u001B[38;5;129;01mor\u001B[39;00m global_skip_validation\n\u001B[1;32m    211\u001B[0m         )\n\u001B[1;32m    212\u001B[0m     ):\n\u001B[0;32m--> 213\u001B[0m         \u001B[38;5;28;01mreturn\u001B[39;00m \u001B[43mfunc\u001B[49m\u001B[43m(\u001B[49m\u001B[38;5;241;43m*\u001B[39;49m\u001B[43margs\u001B[49m\u001B[43m,\u001B[49m\u001B[43m \u001B[49m\u001B[38;5;241;43m*\u001B[39;49m\u001B[38;5;241;43m*\u001B[39;49m\u001B[43mkwargs\u001B[49m\u001B[43m)\u001B[49m\n\u001B[1;32m    214\u001B[0m \u001B[38;5;28;01mexcept\u001B[39;00m InvalidParameterError \u001B[38;5;28;01mas\u001B[39;00m e:\n\u001B[1;32m    215\u001B[0m     \u001B[38;5;66;03m# When the function is just a wrapper around an estimator, we allow\u001B[39;00m\n\u001B[1;32m    216\u001B[0m     \u001B[38;5;66;03m# the function to delegate validation to the estimator, but we replace\u001B[39;00m\n\u001B[1;32m    217\u001B[0m     \u001B[38;5;66;03m# the name of the estimator by the name of the function in the error\u001B[39;00m\n\u001B[1;32m    218\u001B[0m     \u001B[38;5;66;03m# message to avoid confusion.\u001B[39;00m\n\u001B[1;32m    219\u001B[0m     msg \u001B[38;5;241m=\u001B[39m re\u001B[38;5;241m.\u001B[39msub(\n\u001B[1;32m    220\u001B[0m         \u001B[38;5;124mr\u001B[39m\u001B[38;5;124m\"\u001B[39m\u001B[38;5;124mparameter of \u001B[39m\u001B[38;5;124m\\\u001B[39m\u001B[38;5;124mw+ must be\u001B[39m\u001B[38;5;124m\"\u001B[39m,\n\u001B[1;32m    221\u001B[0m         \u001B[38;5;124mf\u001B[39m\u001B[38;5;124m\"\u001B[39m\u001B[38;5;124mparameter of \u001B[39m\u001B[38;5;132;01m{\u001B[39;00mfunc\u001B[38;5;241m.\u001B[39m\u001B[38;5;18m__qualname__\u001B[39m\u001B[38;5;132;01m}\u001B[39;00m\u001B[38;5;124m must be\u001B[39m\u001B[38;5;124m\"\u001B[39m,\n\u001B[1;32m    222\u001B[0m         \u001B[38;5;28mstr\u001B[39m(e),\n\u001B[1;32m    223\u001B[0m     )\n",
      "File \u001B[0;32m~/PycharmProjects/508-final/.venv/lib/python3.11/site-packages/sklearn/metrics/_classification.py:2793\u001B[0m, in \u001B[0;36mhamming_loss\u001B[0;34m(y_true, y_pred, sample_weight)\u001B[0m\n\u001B[1;32m   2709\u001B[0m \u001B[38;5;129m@validate_params\u001B[39m(\n\u001B[1;32m   2710\u001B[0m     {\n\u001B[1;32m   2711\u001B[0m         \u001B[38;5;124m\"\u001B[39m\u001B[38;5;124my_true\u001B[39m\u001B[38;5;124m\"\u001B[39m: [\u001B[38;5;124m\"\u001B[39m\u001B[38;5;124marray-like\u001B[39m\u001B[38;5;124m\"\u001B[39m, \u001B[38;5;124m\"\u001B[39m\u001B[38;5;124msparse matrix\u001B[39m\u001B[38;5;124m\"\u001B[39m],\n\u001B[0;32m   (...)\u001B[0m\n\u001B[1;32m   2716\u001B[0m )\n\u001B[1;32m   2717\u001B[0m \u001B[38;5;28;01mdef\u001B[39;00m \u001B[38;5;21mhamming_loss\u001B[39m(y_true, y_pred, \u001B[38;5;241m*\u001B[39m, sample_weight\u001B[38;5;241m=\u001B[39m\u001B[38;5;28;01mNone\u001B[39;00m):\n\u001B[1;32m   2718\u001B[0m \u001B[38;5;250m    \u001B[39m\u001B[38;5;124;03m\"\"\"Compute the average Hamming loss.\u001B[39;00m\n\u001B[1;32m   2719\u001B[0m \n\u001B[1;32m   2720\u001B[0m \u001B[38;5;124;03m    The Hamming loss is the fraction of labels that are incorrectly predicted.\u001B[39;00m\n\u001B[0;32m   (...)\u001B[0m\n\u001B[1;32m   2790\u001B[0m \u001B[38;5;124;03m    0.75\u001B[39;00m\n\u001B[1;32m   2791\u001B[0m \u001B[38;5;124;03m    \"\"\"\u001B[39;00m\n\u001B[0;32m-> 2793\u001B[0m     y_type, y_true, y_pred \u001B[38;5;241m=\u001B[39m \u001B[43m_check_targets\u001B[49m\u001B[43m(\u001B[49m\u001B[43my_true\u001B[49m\u001B[43m,\u001B[49m\u001B[43m \u001B[49m\u001B[43my_pred\u001B[49m\u001B[43m)\u001B[49m\n\u001B[1;32m   2794\u001B[0m     check_consistent_length(y_true, y_pred, sample_weight)\n\u001B[1;32m   2796\u001B[0m     \u001B[38;5;28;01mif\u001B[39;00m sample_weight \u001B[38;5;129;01mis\u001B[39;00m \u001B[38;5;28;01mNone\u001B[39;00m:\n",
      "File \u001B[0;32m~/PycharmProjects/508-final/.venv/lib/python3.11/site-packages/sklearn/metrics/_classification.py:105\u001B[0m, in \u001B[0;36m_check_targets\u001B[0;34m(y_true, y_pred)\u001B[0m\n\u001B[1;32m    103\u001B[0m \u001B[38;5;66;03m# No metrics support \"multiclass-multioutput\" format\u001B[39;00m\n\u001B[1;32m    104\u001B[0m \u001B[38;5;28;01mif\u001B[39;00m y_type \u001B[38;5;129;01mnot\u001B[39;00m \u001B[38;5;129;01min\u001B[39;00m [\u001B[38;5;124m\"\u001B[39m\u001B[38;5;124mbinary\u001B[39m\u001B[38;5;124m\"\u001B[39m, \u001B[38;5;124m\"\u001B[39m\u001B[38;5;124mmulticlass\u001B[39m\u001B[38;5;124m\"\u001B[39m, \u001B[38;5;124m\"\u001B[39m\u001B[38;5;124mmultilabel-indicator\u001B[39m\u001B[38;5;124m\"\u001B[39m]:\n\u001B[0;32m--> 105\u001B[0m     \u001B[38;5;28;01mraise\u001B[39;00m \u001B[38;5;167;01mValueError\u001B[39;00m(\u001B[38;5;124m\"\u001B[39m\u001B[38;5;132;01m{0}\u001B[39;00m\u001B[38;5;124m is not supported\u001B[39m\u001B[38;5;124m\"\u001B[39m\u001B[38;5;241m.\u001B[39mformat(y_type))\n\u001B[1;32m    107\u001B[0m \u001B[38;5;28;01mif\u001B[39;00m y_type \u001B[38;5;129;01min\u001B[39;00m [\u001B[38;5;124m\"\u001B[39m\u001B[38;5;124mbinary\u001B[39m\u001B[38;5;124m\"\u001B[39m, \u001B[38;5;124m\"\u001B[39m\u001B[38;5;124mmulticlass\u001B[39m\u001B[38;5;124m\"\u001B[39m]:\n\u001B[1;32m    108\u001B[0m     xp, _ \u001B[38;5;241m=\u001B[39m get_namespace(y_true, y_pred)\n",
      "\u001B[0;31mValueError\u001B[0m: multiclass-multioutput is not supported"
     ]
    }
   ],
   "source": [
    "Y_pred = multi_target_forest.predict(X_test)\n",
    "\n",
    "# Metrics\n",
    "hammingloss = hamming_loss(Y_test, Y_pred)\n",
    "# Exact Match Ratio (Subset Accuracy)\n",
    "exact_match = accuracy_score(Y_test, Y_pred)\n",
    "# Classification Report for each class\n",
    "report = classification_report(Y_test, Y_pred, target_names=label_columns, zero_division=0)\n",
    "\n",
    "print(f\"Hamming Loss: {hammingloss}\")\n",
    "print(f\"Exact Match Ratio: {exact_match}\")\n",
    "print(report)\n"
   ],
   "metadata": {
    "collapsed": false,
    "ExecuteTime": {
     "end_time": "2024-05-02T00:59:37.673039Z",
     "start_time": "2024-05-02T00:59:35.976976Z"
    }
   },
   "id": "76dbd050ba0c791",
   "execution_count": 11
  },
  {
   "cell_type": "code",
   "outputs": [
    {
     "name": "stdout",
     "output_type": "stream",
     "text": [
      "Y_test type: <class 'pandas.core.frame.DataFrame'>\n",
      "Y_pred type: <class 'numpy.ndarray'>\n",
      "Y_test shape: (100, 16)\n",
      "Y_pred shape: (100, 16)\n",
      "Sample Y_test values:\n",
      "            PTP  AMPI  AMRO  ATSP  DEJU  FOSP  GCSP  HETH  OCWA  ROPT  SAVS  \\\n",
      "735  132000201     0     0     0     0     0     0     0     1     0     0   \n",
      "736  134370303     0     0     0     0     0     0     0     0     0     1   \n",
      "737  132000102     0     0     0     0     0     1     1     1     0     1   \n",
      "738  134370302     0     0     0     0     1     0     0     0     0     1   \n",
      "739  132000101     0     0     0     0     1     1     1     0     0     1   \n",
      "\n",
      "     WCSP  WIPT  WISN  WIWA  YRWA  \n",
      "735     0     0     0     1     0  \n",
      "736     0     0     1     0     0  \n",
      "737     0     0     1     1     0  \n",
      "738     0     0     1     0     0  \n",
      "739     0     0     0     1     0  \n",
      "Sample Y_pred values:\n",
      " [[158520103         0         0         0         0         0         1\n",
      "          1         1         0         0         0         0         0\n",
      "          1         0]\n",
      " [158520103         0         0         0         0         0         1\n",
      "          0         0         0         0         0         0         0\n",
      "          0         0]\n",
      " [158520103         0         0         0         0         1         0\n",
      "          0         0         0         0         0         0         0\n",
      "          1         0]\n",
      " [158520103         0         0         0         0         1         1\n",
      "          1         0         0         0         0         0         0\n",
      "          0         0]\n",
      " [158520103         0         0         0         0         1         1\n",
      "          1         0         0         0         0         0         0\n",
      "          1         0]]\n"
     ]
    }
   ],
   "source": [
    "# Check the format of labels and predictions\n",
    "print(\"Y_test type:\", type(Y_test))\n",
    "print(\"Y_pred type:\", type(Y_pred))\n",
    "print(\"Y_test shape:\", Y_test.shape)\n",
    "print(\"Y_pred shape:\", Y_pred.shape)\n",
    "\n",
    "# Sample data\n",
    "print(\"Sample Y_test values:\\n\", Y_test.iloc[:5])\n",
    "print(\"Sample Y_pred values:\\n\", Y_pred[:5])\n"
   ],
   "metadata": {
    "collapsed": false,
    "ExecuteTime": {
     "end_time": "2024-05-02T01:00:19.300790Z",
     "start_time": "2024-05-02T01:00:19.290900Z"
    }
   },
   "id": "84fbfcaf3cdd1100",
   "execution_count": 12
  },
  {
   "cell_type": "code",
   "outputs": [
    {
     "name": "stdout",
     "output_type": "stream",
     "text": [
      "Y_test shape: (100, 15)\n",
      "Y_pred shape: (100, 15)\n",
      "Sample Y_test values:\n",
      "      AMPI  AMRO  ATSP  DEJU  FOSP  GCSP  HETH  OCWA  ROPT  SAVS  WCSP  WIPT  \\\n",
      "735     0     0     0     0     0     0     0     1     0     0     0     0   \n",
      "736     0     0     0     0     0     0     0     0     0     1     0     0   \n",
      "737     0     0     0     0     0     1     1     1     0     1     0     0   \n",
      "738     0     0     0     0     1     0     0     0     0     1     0     0   \n",
      "739     0     0     0     0     1     1     1     0     0     1     0     0   \n",
      "\n",
      "     WISN  WIWA  YRWA  \n",
      "735     0     1     0  \n",
      "736     1     0     0  \n",
      "737     1     1     0  \n",
      "738     1     0     0  \n",
      "739     0     1     0  \n",
      "Sample Y_pred values:\n",
      " [[0 0 0 0 0 1 1 1 0 0 0 0 0 1 0]\n",
      " [0 0 0 0 0 1 0 0 0 0 0 0 0 0 0]\n",
      " [0 0 0 0 1 0 0 0 0 0 0 0 0 1 0]\n",
      " [0 0 0 0 1 1 1 0 0 0 0 0 0 0 0]\n",
      " [0 0 0 0 1 1 1 0 0 0 0 0 0 1 0]]\n",
      "Hamming Loss: 0.21333333333333335\n",
      "Exact Match Ratio: 0.03\n",
      "              precision    recall  f1-score   support\n",
      "\n",
      "        AMPI       0.00      0.00      0.00        18\n",
      "        AMRO       0.00      0.00      0.00         6\n",
      "        ATSP       0.00      0.00      0.00         4\n",
      "        DEJU       0.00      0.00      0.00         0\n",
      "        FOSP       0.29      0.89      0.44        27\n",
      "        GCSP       0.68      0.96      0.80        69\n",
      "        HETH       0.55      0.71      0.62        52\n",
      "        OCWA       0.59      0.64      0.61        36\n",
      "        ROPT       0.00      0.00      0.00        14\n",
      "        SAVS       0.00      0.00      0.00        24\n",
      "        WCSP       0.00      0.00      0.00         8\n",
      "        WIPT       0.00      0.00      0.00        23\n",
      "        WISN       0.00      0.00      0.00         8\n",
      "        WIWA       0.62      0.95      0.75        59\n",
      "        YRWA       0.00      0.00      0.00         0\n",
      "\n",
      "   micro avg       0.54      0.59      0.56       348\n",
      "   macro avg       0.18      0.28      0.21       348\n",
      "weighted avg       0.41      0.59      0.47       348\n",
      " samples avg       0.51      0.54      0.50       348\n"
     ]
    }
   ],
   "source": [
    "# Removing 'PTP' column from label columns if it is present\n",
    "if 'PTP' in label_columns:\n",
    "    label_columns.remove('PTP')\n",
    "\n",
    "# Recreate labels DataFrame without 'PTP'\n",
    "Y = data[label_columns]\n",
    "\n",
    "# Split data again, ensuring 'PTP' is not in the label sets\n",
    "Y_train, Y_test = Y[data['year'] != 2008], Y[data['year'] == 2008]\n",
    "\n",
    "# Fit the model again\n",
    "multi_target_forest.fit(X_train, Y_train)\n",
    "Y_pred = multi_target_forest.predict(X_test)\n",
    "\n",
    "# Check shapes and sample data again\n",
    "print(\"Y_test shape:\", Y_test.shape)\n",
    "print(\"Y_pred shape:\", Y_pred.shape)\n",
    "print(\"Sample Y_test values:\\n\", Y_test.iloc[:5])\n",
    "print(\"Sample Y_pred values:\\n\", Y_pred[:5])\n",
    "\n",
    "# Metrics\n",
    "hammingloss = hamming_loss(Y_test, Y_pred)\n",
    "exact_match = accuracy_score(Y_test, Y_pred)\n",
    "report = classification_report(Y_test, Y_pred, target_names=label_columns, zero_division=0)\n",
    "\n",
    "print(f\"Hamming Loss: {hammingloss}\")\n",
    "print(f\"Exact Match Ratio: {exact_match}\")\n",
    "print(report)\n"
   ],
   "metadata": {
    "collapsed": false,
    "ExecuteTime": {
     "end_time": "2024-05-02T01:01:12.909030Z",
     "start_time": "2024-05-02T01:01:11.708493Z"
    }
   },
   "id": "3b06b880f3633dd4",
   "execution_count": 13
  },
  {
   "cell_type": "code",
   "outputs": [
    {
     "name": "stdout",
     "output_type": "stream",
     "text": [
      "Species counts in the train set:\n",
      "AMPI    126\n",
      "AMRO    145\n",
      "ATSP    157\n",
      "DEJU    117\n",
      "FOSP    222\n",
      "GCSP    355\n",
      "HETH    189\n",
      "OCWA     97\n",
      "ROPT     58\n",
      "SAVS    114\n",
      "WCSP    134\n",
      "WIPT     62\n",
      "WISN     58\n",
      "WIWA    174\n",
      "YRWA    120\n",
      "dtype: int64\n",
      "\n",
      "Species counts in the test set:\n",
      "AMPI    18\n",
      "AMRO     6\n",
      "ATSP     4\n",
      "DEJU     0\n",
      "FOSP    27\n",
      "GCSP    69\n",
      "HETH    52\n",
      "OCWA    36\n",
      "ROPT    14\n",
      "SAVS    24\n",
      "WCSP     8\n",
      "WIPT    23\n",
      "WISN     8\n",
      "WIWA    59\n",
      "YRWA     0\n",
      "dtype: int64\n"
     ]
    }
   ],
   "source": [
    "# Assuming Y_train and Y_test are already defined and contain only the species columns\n",
    "\n",
    "# Sum each species in the train set\n",
    "species_counts_train = Y_train.sum(axis=0)\n",
    "\n",
    "# Sum each species in the test set\n",
    "species_counts_test = Y_test.sum(axis=0)\n",
    "\n",
    "# Print the results\n",
    "print(\"Species counts in the train set:\")\n",
    "print(species_counts_train)\n",
    "print(\"\\nSpecies counts in the test set:\")\n",
    "print(species_counts_test)\n"
   ],
   "metadata": {
    "collapsed": false,
    "ExecuteTime": {
     "end_time": "2024-05-02T01:04:48.485551Z",
     "start_time": "2024-05-02T01:04:48.480664Z"
    }
   },
   "id": "3c9554ae1beea371",
   "execution_count": 14
  },
  {
   "cell_type": "code",
   "outputs": [
    {
     "name": "stdout",
     "output_type": "stream",
     "text": [
      "Remaining columns in Y_train: Index(['AMPI', 'AMRO', 'ATSP', 'FOSP', 'GCSP', 'HETH', 'OCWA', 'ROPT', 'SAVS',\n",
      "       'WCSP', 'WIPT', 'WISN', 'WIWA'],\n",
      "      dtype='object')\n",
      "Remaining columns in Y_test: Index(['AMPI', 'AMRO', 'ATSP', 'FOSP', 'GCSP', 'HETH', 'OCWA', 'ROPT', 'SAVS',\n",
      "       'WCSP', 'WIPT', 'WISN', 'WIWA'],\n",
      "      dtype='object')\n"
     ]
    }
   ],
   "source": [
    "species_presence_test = Y_test.sum(axis=0)\n",
    "\n",
    "# Identify columns where the count is zero in the test set\n",
    "columns_to_drop = species_presence_test[species_presence_test == 0].index.tolist()\n",
    "\n",
    "# Drop these columns from both the train and test sets\n",
    "Y_train_filtered = Y_train.drop(columns=columns_to_drop)\n",
    "Y_test_filtered = Y_test.drop(columns=columns_to_drop)\n",
    "\n",
    "# Optionally, you might want to drop these columns from X_train and X_test if the features are adjusted\n",
    "# However, typically feature sets (X_train and X_test) are not adjusted based on label presence\n",
    "\n",
    "# Print the remaining columns to confirm\n",
    "print(\"Remaining columns in Y_train:\", Y_train_filtered.columns)\n",
    "print(\"Remaining columns in Y_test:\", Y_test_filtered.columns)"
   ],
   "metadata": {
    "collapsed": false,
    "ExecuteTime": {
     "end_time": "2024-05-02T01:05:57.226557Z",
     "start_time": "2024-05-02T01:05:57.223074Z"
    }
   },
   "id": "5e52ef2e24222437",
   "execution_count": 15
  },
  {
   "cell_type": "code",
   "outputs": [
    {
     "name": "stdout",
     "output_type": "stream",
     "text": [
      "Y_test shape: (100, 15)\n",
      "Y_pred shape: (100, 15)\n",
      "Sample Y_test values:\n",
      "      AMPI  AMRO  ATSP  DEJU  FOSP  GCSP  HETH  OCWA  ROPT  SAVS  WCSP  WIPT  \\\n",
      "735     0     0     0     0     0     0     0     1     0     0     0     0   \n",
      "736     0     0     0     0     0     0     0     0     0     1     0     0   \n",
      "737     0     0     0     0     0     1     1     1     0     1     0     0   \n",
      "738     0     0     0     0     1     0     0     0     0     1     0     0   \n",
      "739     0     0     0     0     1     1     1     0     0     1     0     0   \n",
      "\n",
      "     WISN  WIWA  YRWA  \n",
      "735     0     1     0  \n",
      "736     1     0     0  \n",
      "737     1     1     0  \n",
      "738     1     0     0  \n",
      "739     0     1     0  \n",
      "Sample Y_pred values:\n",
      " [[0 0 0 0 0 1 1 1 0 0 0 0 0 1 0]\n",
      " [0 0 0 0 0 1 0 0 0 0 0 0 0 0 0]\n",
      " [0 0 0 0 1 0 0 0 0 0 0 0 0 1 0]\n",
      " [0 0 0 0 1 1 1 0 0 0 0 0 0 0 0]\n",
      " [0 0 0 0 1 1 1 0 0 0 0 0 0 1 0]]\n",
      "Hamming Loss: 0.21333333333333335\n",
      "Exact Match Ratio: 0.03\n",
      "              precision    recall  f1-score   support\n",
      "\n",
      "        AMPI       0.00      0.00      0.00        18\n",
      "        AMRO       0.00      0.00      0.00         6\n",
      "        ATSP       0.00      0.00      0.00         4\n",
      "        DEJU       0.00      0.00      0.00         0\n",
      "        FOSP       0.29      0.89      0.44        27\n",
      "        GCSP       0.68      0.96      0.80        69\n",
      "        HETH       0.55      0.71      0.62        52\n",
      "        OCWA       0.59      0.64      0.61        36\n",
      "        ROPT       0.00      0.00      0.00        14\n",
      "        SAVS       0.00      0.00      0.00        24\n",
      "        WCSP       0.00      0.00      0.00         8\n",
      "        WIPT       0.00      0.00      0.00        23\n",
      "        WISN       0.00      0.00      0.00         8\n",
      "        WIWA       0.62      0.95      0.75        59\n",
      "        YRWA       0.00      0.00      0.00         0\n",
      "\n",
      "   micro avg       0.54      0.59      0.56       348\n",
      "   macro avg       0.18      0.28      0.21       348\n",
      "weighted avg       0.41      0.59      0.47       348\n",
      " samples avg       0.51      0.54      0.50       348\n"
     ]
    }
   ],
   "source": [
    "multi_target_forest.fit(X_train, Y_train)\n",
    "Y_pred = multi_target_forest.predict(X_test)\n",
    "\n",
    "# Check shapes and sample data again\n",
    "print(\"Y_test shape:\", Y_test.shape)\n",
    "print(\"Y_pred shape:\", Y_pred.shape)\n",
    "print(\"Sample Y_test values:\\n\", Y_test.iloc[:5])\n",
    "print(\"Sample Y_pred values:\\n\", Y_pred[:5])\n",
    "\n",
    "# Metrics\n",
    "hammingloss = hamming_loss(Y_test, Y_pred)\n",
    "exact_match = accuracy_score(Y_test, Y_pred)\n",
    "report = classification_report(Y_test, Y_pred, target_names=label_columns, zero_division=0)\n",
    "\n",
    "print(f\"Hamming Loss: {hammingloss}\")\n",
    "print(f\"Exact Match Ratio: {exact_match}\")\n",
    "print(report)\n"
   ],
   "metadata": {
    "collapsed": false,
    "ExecuteTime": {
     "end_time": "2024-05-02T01:06:18.973269Z",
     "start_time": "2024-05-02T01:06:16.596723Z"
    }
   },
   "id": "6d77c62b3174ce14",
   "execution_count": 16
  },
  {
   "cell_type": "code",
   "outputs": [
    {
     "data": {
      "text/plain": "array([[[ 82,   0],\n        [ 18,   0]],\n\n       [[ 87,   7],\n        [  6,   0]],\n\n       [[ 96,   0],\n        [  4,   0]],\n\n       [[100,   0],\n        [  0,   0]],\n\n       [[ 14,  59],\n        [  3,  24]],\n\n       [[  0,  31],\n        [  3,  66]],\n\n       [[ 18,  30],\n        [ 15,  37]],\n\n       [[ 48,  16],\n        [ 13,  23]],\n\n       [[ 86,   0],\n        [ 14,   0]],\n\n       [[ 76,   0],\n        [ 24,   0]],\n\n       [[ 92,   0],\n        [  8,   0]],\n\n       [[ 77,   0],\n        [ 23,   0]],\n\n       [[ 92,   0],\n        [  8,   0]],\n\n       [[  6,  35],\n        [  3,  56]],\n\n       [[100,   0],\n        [  0,   0]]])"
     },
     "execution_count": 19,
     "metadata": {},
     "output_type": "execute_result"
    }
   ],
   "source": [
    "from sklearn.metrics import multilabel_confusion_matrix, confusion_matrix, ConfusionMatrixDisplay\n",
    "import matplotlib.pyplot as plt\n",
    "multilabel_confusion_matrix(Y_test, Y_pred)"
   ],
   "metadata": {
    "collapsed": false,
    "ExecuteTime": {
     "end_time": "2024-05-02T18:16:44.524003Z",
     "start_time": "2024-05-02T18:16:44.236311Z"
    }
   },
   "id": "e655633a87fc36aa",
   "execution_count": 19
  },
  {
   "cell_type": "code",
   "outputs": [
    {
     "ename": "InvalidIndexError",
     "evalue": "(slice(None, None, None), 0)",
     "output_type": "error",
     "traceback": [
      "\u001B[0;31m---------------------------------------------------------------------------\u001B[0m",
      "\u001B[0;31mTypeError\u001B[0m                                 Traceback (most recent call last)",
      "File \u001B[0;32m~/PycharmProjects/508-final/.venv/lib/python3.11/site-packages/pandas/core/indexes/base.py:3805\u001B[0m, in \u001B[0;36mIndex.get_loc\u001B[0;34m(self, key)\u001B[0m\n\u001B[1;32m   3804\u001B[0m \u001B[38;5;28;01mtry\u001B[39;00m:\n\u001B[0;32m-> 3805\u001B[0m     \u001B[38;5;28;01mreturn\u001B[39;00m \u001B[38;5;28;43mself\u001B[39;49m\u001B[38;5;241;43m.\u001B[39;49m\u001B[43m_engine\u001B[49m\u001B[38;5;241;43m.\u001B[39;49m\u001B[43mget_loc\u001B[49m\u001B[43m(\u001B[49m\u001B[43mcasted_key\u001B[49m\u001B[43m)\u001B[49m\n\u001B[1;32m   3806\u001B[0m \u001B[38;5;28;01mexcept\u001B[39;00m \u001B[38;5;167;01mKeyError\u001B[39;00m \u001B[38;5;28;01mas\u001B[39;00m err:\n",
      "File \u001B[0;32mindex.pyx:167\u001B[0m, in \u001B[0;36mpandas._libs.index.IndexEngine.get_loc\u001B[0;34m()\u001B[0m\n",
      "File \u001B[0;32mindex.pyx:173\u001B[0m, in \u001B[0;36mpandas._libs.index.IndexEngine.get_loc\u001B[0;34m()\u001B[0m\n",
      "\u001B[0;31mTypeError\u001B[0m: '(slice(None, None, None), 0)' is an invalid key",
      "\nDuring handling of the above exception, another exception occurred:\n",
      "\u001B[0;31mInvalidIndexError\u001B[0m                         Traceback (most recent call last)",
      "Cell \u001B[0;32mIn[20], line 4\u001B[0m\n\u001B[1;32m      2\u001B[0m axes \u001B[38;5;241m=\u001B[39m axes\u001B[38;5;241m.\u001B[39mravel()\n\u001B[1;32m      3\u001B[0m \u001B[38;5;28;01mfor\u001B[39;00m i \u001B[38;5;129;01min\u001B[39;00m \u001B[38;5;28mrange\u001B[39m(\u001B[38;5;241m15\u001B[39m):\n\u001B[0;32m----> 4\u001B[0m     disp \u001B[38;5;241m=\u001B[39m ConfusionMatrixDisplay(confusion_matrix(\u001B[43mY_test\u001B[49m\u001B[43m[\u001B[49m\u001B[43m:\u001B[49m\u001B[43m,\u001B[49m\u001B[43m \u001B[49m\u001B[43mi\u001B[49m\u001B[43m]\u001B[49m,\n\u001B[1;32m      5\u001B[0m                                                    Y_pred[:, i]),\n\u001B[1;32m      6\u001B[0m                                   display_labels\u001B[38;5;241m=\u001B[39m[\u001B[38;5;241m0\u001B[39m, i])\n\u001B[1;32m      7\u001B[0m     disp\u001B[38;5;241m.\u001B[39mplot(ax\u001B[38;5;241m=\u001B[39maxes[i], values_format\u001B[38;5;241m=\u001B[39m\u001B[38;5;124m'\u001B[39m\u001B[38;5;124m.4g\u001B[39m\u001B[38;5;124m'\u001B[39m)\n\u001B[1;32m      8\u001B[0m     disp\u001B[38;5;241m.\u001B[39max_\u001B[38;5;241m.\u001B[39mset_title(\u001B[38;5;124mf\u001B[39m\u001B[38;5;124m'\u001B[39m\u001B[38;5;124mclass \u001B[39m\u001B[38;5;132;01m{\u001B[39;00mi\u001B[38;5;132;01m}\u001B[39;00m\u001B[38;5;124m'\u001B[39m)\n",
      "File \u001B[0;32m~/PycharmProjects/508-final/.venv/lib/python3.11/site-packages/pandas/core/frame.py:4102\u001B[0m, in \u001B[0;36mDataFrame.__getitem__\u001B[0;34m(self, key)\u001B[0m\n\u001B[1;32m   4100\u001B[0m \u001B[38;5;28;01mif\u001B[39;00m \u001B[38;5;28mself\u001B[39m\u001B[38;5;241m.\u001B[39mcolumns\u001B[38;5;241m.\u001B[39mnlevels \u001B[38;5;241m>\u001B[39m \u001B[38;5;241m1\u001B[39m:\n\u001B[1;32m   4101\u001B[0m     \u001B[38;5;28;01mreturn\u001B[39;00m \u001B[38;5;28mself\u001B[39m\u001B[38;5;241m.\u001B[39m_getitem_multilevel(key)\n\u001B[0;32m-> 4102\u001B[0m indexer \u001B[38;5;241m=\u001B[39m \u001B[38;5;28;43mself\u001B[39;49m\u001B[38;5;241;43m.\u001B[39;49m\u001B[43mcolumns\u001B[49m\u001B[38;5;241;43m.\u001B[39;49m\u001B[43mget_loc\u001B[49m\u001B[43m(\u001B[49m\u001B[43mkey\u001B[49m\u001B[43m)\u001B[49m\n\u001B[1;32m   4103\u001B[0m \u001B[38;5;28;01mif\u001B[39;00m is_integer(indexer):\n\u001B[1;32m   4104\u001B[0m     indexer \u001B[38;5;241m=\u001B[39m [indexer]\n",
      "File \u001B[0;32m~/PycharmProjects/508-final/.venv/lib/python3.11/site-packages/pandas/core/indexes/base.py:3817\u001B[0m, in \u001B[0;36mIndex.get_loc\u001B[0;34m(self, key)\u001B[0m\n\u001B[1;32m   3812\u001B[0m     \u001B[38;5;28;01mraise\u001B[39;00m \u001B[38;5;167;01mKeyError\u001B[39;00m(key) \u001B[38;5;28;01mfrom\u001B[39;00m \u001B[38;5;21;01merr\u001B[39;00m\n\u001B[1;32m   3813\u001B[0m \u001B[38;5;28;01mexcept\u001B[39;00m \u001B[38;5;167;01mTypeError\u001B[39;00m:\n\u001B[1;32m   3814\u001B[0m     \u001B[38;5;66;03m# If we have a listlike key, _check_indexing_error will raise\u001B[39;00m\n\u001B[1;32m   3815\u001B[0m     \u001B[38;5;66;03m#  InvalidIndexError. Otherwise we fall through and re-raise\u001B[39;00m\n\u001B[1;32m   3816\u001B[0m     \u001B[38;5;66;03m#  the TypeError.\u001B[39;00m\n\u001B[0;32m-> 3817\u001B[0m     \u001B[38;5;28;43mself\u001B[39;49m\u001B[38;5;241;43m.\u001B[39;49m\u001B[43m_check_indexing_error\u001B[49m\u001B[43m(\u001B[49m\u001B[43mkey\u001B[49m\u001B[43m)\u001B[49m\n\u001B[1;32m   3818\u001B[0m     \u001B[38;5;28;01mraise\u001B[39;00m\n",
      "File \u001B[0;32m~/PycharmProjects/508-final/.venv/lib/python3.11/site-packages/pandas/core/indexes/base.py:6059\u001B[0m, in \u001B[0;36mIndex._check_indexing_error\u001B[0;34m(self, key)\u001B[0m\n\u001B[1;32m   6055\u001B[0m \u001B[38;5;28;01mdef\u001B[39;00m \u001B[38;5;21m_check_indexing_error\u001B[39m(\u001B[38;5;28mself\u001B[39m, key):\n\u001B[1;32m   6056\u001B[0m     \u001B[38;5;28;01mif\u001B[39;00m \u001B[38;5;129;01mnot\u001B[39;00m is_scalar(key):\n\u001B[1;32m   6057\u001B[0m         \u001B[38;5;66;03m# if key is not a scalar, directly raise an error (the code below\u001B[39;00m\n\u001B[1;32m   6058\u001B[0m         \u001B[38;5;66;03m# would convert to numpy arrays and raise later any way) - GH29926\u001B[39;00m\n\u001B[0;32m-> 6059\u001B[0m         \u001B[38;5;28;01mraise\u001B[39;00m InvalidIndexError(key)\n",
      "\u001B[0;31mInvalidIndexError\u001B[0m: (slice(None, None, None), 0)"
     ]
    },
    {
     "data": {
      "text/plain": "<Figure size 2500x1500 with 15 Axes>",
      "image/png": "[encoded data removed]"
     },
     "metadata": {},
     "output_type": "display_data"
    }
   ],
   "source": [
    "f, axes = plt.subplots(3, 5, figsize=(25, 15))\n",
    "axes = axes.ravel()\n",
    "for i in range(15):\n",
    "    disp = ConfusionMatrixDisplay(confusion_matrix(Y_test[:, i],\n",
    "                                                   Y_pred[:, i]),\n",
    "                                  display_labels=[0, i])\n",
    "    disp.plot(ax=axes[i], values_format='.4g')\n",
    "    disp.ax_.set_title(f'class {i}')\n",
    "    if i<10:\n",
    "        disp.ax_.set_xlabel('')\n",
    "    if i%5!=0:\n",
    "        disp.ax_.set_ylabel('')\n",
    "    disp.im_.colorbar.remove()\n",
    "\n",
    "plt.subplots_adjust(wspace=0.10, hspace=0.1)\n",
    "f.colorbar(disp.im_, ax=axes)\n",
    "plt.show()"
   ],
   "metadata": {
    "collapsed": false,
    "ExecuteTime": {
     "end_time": "2024-05-02T18:16:47.977126Z",
     "start_time": "2024-05-02T18:16:46.847225Z"
    }
   },
   "id": "aadc1a59ed2ccffa",
   "execution_count": 20
  },
  {
   "cell_type": "code",
   "outputs": [],
   "source": [],
   "metadata": {
    "collapsed": false
   },
   "id": "99ef50fa22691a21"
  }
 ],
 "metadata": {
  "kernelspec": {
   "display_name": "Python 3",
   "language": "python",
   "name": "python3"
  },
  "language_info": {
   "codemirror_mode": {
    "name": "ipython",
    "version": 2
   },
   "file_extension": ".py",
   "mimetype": "text/x-python",
   "name": "python",
   "nbconvert_exporter": "python",
   "pygments_lexer": "ipython2",
   "version": "2.7.6"
  }
 },
 "nbformat": 4,
 "nbformat_minor": 5
}
